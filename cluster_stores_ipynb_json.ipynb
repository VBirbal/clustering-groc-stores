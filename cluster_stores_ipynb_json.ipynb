{
  "nbformat": 4,
  "nbformat_minor": 0,
  "metadata": {
    "colab": {
      "name": "cluster-stores.ipynb.json",
      "version": "0.3.2",
      "provenance": [],
      "include_colab_link": true
    },
    "language_info": {
      "codemirror_mode": {
        "name": "ipython",
        "version": 3
      },
      "file_extension": ".py",
      "mimetype": "text/x-python",
      "name": "python",
      "nbconvert_exporter": "python",
      "pygments_lexer": "ipython3",
      "version": "3.7.1"
    },
    "kernelspec": {
      "display_name": "Python 3",
      "language": "python",
      "name": "python3"
    }
  },
  "cells": [
    {
      "cell_type": "markdown",
      "metadata": {
        "id": "view-in-github",
        "colab_type": "text"
      },
      "source": [
        "<a href=\"https://colab.research.google.com/github/okomachidera/clustering-groc-stores/blob/master/cluster_stores_ipynb_json.ipynb\" target=\"_parent\"><img src=\"https://colab.research.google.com/assets/colab-badge.svg\" alt=\"Open In Colab\"/></a>"
      ]
    },
    {
      "metadata": {
        "id": "pE_ecur84iGt",
        "colab_type": "code",
        "colab": {},
        "outputId": "0342fddc-d17e-471a-ed5e-610e9c302dbe"
      },
      "cell_type": "code",
      "source": [
        "import pandas as pd\n",
        "import numpy as np\n",
        "\n",
        "from pandas import DataFrame, Series\n",
        "salesdata = pd.read_csv('/Users/chidera/Desktop/All Project Files/storesalesdata.csv')\n",
        "salesdata.head()"
      ],
      "execution_count": 0,
      "outputs": [
        {
          "output_type": "execute_result",
          "data": {
            "text/html": [
              "<div>\n",
              "<style scoped>\n",
              "    .dataframe tbody tr th:only-of-type {\n",
              "        vertical-align: middle;\n",
              "    }\n",
              "\n",
              "    .dataframe tbody tr th {\n",
              "        vertical-align: top;\n",
              "    }\n",
              "\n",
              "    .dataframe thead th {\n",
              "        text-align: right;\n",
              "    }\n",
              "</style>\n",
              "<table border=\"1\" class=\"dataframe\">\n",
              "  <thead>\n",
              "    <tr style=\"text-align: right;\">\n",
              "      <th></th>\n",
              "      <th>Store</th>\n",
              "      <th>Day</th>\n",
              "      <th>Month</th>\n",
              "      <th>Year</th>\n",
              "      <th>Dry_Grocery</th>\n",
              "      <th>Dairy</th>\n",
              "      <th>Frozen_Food</th>\n",
              "      <th>Meat</th>\n",
              "      <th>Produce</th>\n",
              "      <th>Floral</th>\n",
              "      <th>Deli</th>\n",
              "      <th>Bakery</th>\n",
              "      <th>General_Merchandise</th>\n",
              "    </tr>\n",
              "  </thead>\n",
              "  <tbody>\n",
              "    <tr>\n",
              "      <th>0</th>\n",
              "      <td>S0001</td>\n",
              "      <td>1</td>\n",
              "      <td>3</td>\n",
              "      <td>2012</td>\n",
              "      <td>23401.06</td>\n",
              "      <td>5567.90</td>\n",
              "      <td>3930.28</td>\n",
              "      <td>5223.61</td>\n",
              "      <td>4542.28</td>\n",
              "      <td>238.58</td>\n",
              "      <td>2608.78</td>\n",
              "      <td>1651.77</td>\n",
              "      <td>4304.79</td>\n",
              "    </tr>\n",
              "    <tr>\n",
              "      <th>1</th>\n",
              "      <td>S0001</td>\n",
              "      <td>2</td>\n",
              "      <td>3</td>\n",
              "      <td>2012</td>\n",
              "      <td>32442.93</td>\n",
              "      <td>8009.52</td>\n",
              "      <td>4712.31</td>\n",
              "      <td>6174.72</td>\n",
              "      <td>9503.45</td>\n",
              "      <td>245.29</td>\n",
              "      <td>2692.72</td>\n",
              "      <td>2688.89</td>\n",
              "      <td>4467.51</td>\n",
              "    </tr>\n",
              "    <tr>\n",
              "      <th>2</th>\n",
              "      <td>S0001</td>\n",
              "      <td>3</td>\n",
              "      <td>3</td>\n",
              "      <td>2012</td>\n",
              "      <td>40433.61</td>\n",
              "      <td>9759.20</td>\n",
              "      <td>5969.03</td>\n",
              "      <td>8010.67</td>\n",
              "      <td>12793.92</td>\n",
              "      <td>282.12</td>\n",
              "      <td>3493.85</td>\n",
              "      <td>2929.85</td>\n",
              "      <td>5721.60</td>\n",
              "    </tr>\n",
              "    <tr>\n",
              "      <th>3</th>\n",
              "      <td>S0001</td>\n",
              "      <td>4</td>\n",
              "      <td>3</td>\n",
              "      <td>2012</td>\n",
              "      <td>57043.39</td>\n",
              "      <td>13966.26</td>\n",
              "      <td>9008.24</td>\n",
              "      <td>13142.55</td>\n",
              "      <td>16635.77</td>\n",
              "      <td>316.72</td>\n",
              "      <td>5618.55</td>\n",
              "      <td>4270.38</td>\n",
              "      <td>8313.11</td>\n",
              "    </tr>\n",
              "    <tr>\n",
              "      <th>4</th>\n",
              "      <td>S0001</td>\n",
              "      <td>5</td>\n",
              "      <td>3</td>\n",
              "      <td>2012</td>\n",
              "      <td>32894.86</td>\n",
              "      <td>7870.66</td>\n",
              "      <td>5448.35</td>\n",
              "      <td>5459.29</td>\n",
              "      <td>8358.96</td>\n",
              "      <td>198.00</td>\n",
              "      <td>3339.59</td>\n",
              "      <td>2061.21</td>\n",
              "      <td>5280.16</td>\n",
              "    </tr>\n",
              "  </tbody>\n",
              "</table>\n",
              "</div>"
            ],
            "text/plain": [
              "   Store  Day  Month  Year  Dry_Grocery     Dairy  Frozen_Food      Meat  \\\n",
              "0  S0001    1      3  2012     23401.06   5567.90      3930.28   5223.61   \n",
              "1  S0001    2      3  2012     32442.93   8009.52      4712.31   6174.72   \n",
              "2  S0001    3      3  2012     40433.61   9759.20      5969.03   8010.67   \n",
              "3  S0001    4      3  2012     57043.39  13966.26      9008.24  13142.55   \n",
              "4  S0001    5      3  2012     32894.86   7870.66      5448.35   5459.29   \n",
              "\n",
              "    Produce  Floral     Deli   Bakery  General_Merchandise  \n",
              "0   4542.28  238.58  2608.78  1651.77              4304.79  \n",
              "1   9503.45  245.29  2692.72  2688.89              4467.51  \n",
              "2  12793.92  282.12  3493.85  2929.85              5721.60  \n",
              "3  16635.77  316.72  5618.55  4270.38              8313.11  \n",
              "4   8358.96  198.00  3339.59  2061.21              5280.16  "
            ]
          },
          "metadata": {
            "tags": []
          },
          "execution_count": 11
        }
      ]
    },
    {
      "metadata": {
        "id": "p5oK1db54iG7",
        "colab_type": "code",
        "colab": {},
        "outputId": "912c7090-8407-406a-9e15-902386cff43a"
      },
      "cell_type": "code",
      "source": [
        "salesdata.tail()\n",
        "salesdata['Year'].head()"
      ],
      "execution_count": 0,
      "outputs": [
        {
          "output_type": "execute_result",
          "data": {
            "text/plain": [
              "0    2012\n",
              "1    2012\n",
              "2    2012\n",
              "3    2012\n",
              "4    2012\n",
              "Name: Year, dtype: int64"
            ]
          },
          "metadata": {
            "tags": []
          },
          "execution_count": 19
        }
      ]
    },
    {
      "metadata": {
        "id": "authufuh4iHE",
        "colab_type": "code",
        "colab": {},
        "outputId": "85aa5d46-13d1-4e8a-8786-40b20dbee82a"
      },
      "cell_type": "code",
      "source": [
        "df = pd.read_csv('/Users/chidera/Desktop/All Project Files/storesalesdata.csv')\n",
        "df = pd.DataFrame(salesdata)\n",
        "is_2015 = df['Year']==2015\n",
        "print(is_2015.head())"
      ],
      "execution_count": 0,
      "outputs": [
        {
          "output_type": "stream",
          "text": [
            "0    False\n",
            "1    False\n",
            "2    False\n",
            "3    False\n",
            "4    False\n",
            "Name: Year, dtype: bool\n"
          ],
          "name": "stdout"
        }
      ]
    },
    {
      "metadata": {
        "id": "BlF7o0SR4iHK",
        "colab_type": "code",
        "colab": {},
        "outputId": "7f489bd6-9138-4134-9bec-86b3e1aadf96"
      },
      "cell_type": "code",
      "source": [
        "df_2015 = df[is_2015]\n",
        "print(df_2015.shape)\n"
      ],
      "execution_count": 0,
      "outputs": [
        {
          "output_type": "stream",
          "text": [
            "(30933, 13)\n"
          ],
          "name": "stdout"
        }
      ]
    },
    {
      "metadata": {
        "id": "IswQgZ9n4iHU",
        "colab_type": "code",
        "colab": {},
        "outputId": "5d8fc7bf-55c0-44ca-9817-114be5691684"
      },
      "cell_type": "code",
      "source": [
        "print(df_2015.head())\n",
        "df = pd.DataFrame(df_2015)\n",
        "df.head()"
      ],
      "execution_count": 0,
      "outputs": [
        {
          "output_type": "stream",
          "text": [
            "     Store  Day  Month  Year  Dry_Grocery     Dairy  Frozen_Food      Meat  \\\n",
            "669  S0001    1      1  2015     15851.32   4343.52      2659.79   3273.70   \n",
            "670  S0001    2      1  2015     24726.90   5622.35      3618.33   4361.22   \n",
            "671  S0001    3      1  2015     32463.81   7407.34      6134.92   8888.22   \n",
            "672  S0001    4      1  2015     45526.66  10239.19      8592.09  13102.94   \n",
            "673  S0001    5      1  2015     44492.21   9997.15      7215.28  12757.61   \n",
            "\n",
            "      Produce  Floral     Deli   Bakery  General_Merchandise  \n",
            "669   2820.66  111.31  1778.42  1311.56              2870.88  \n",
            "670   4050.15   52.44  1944.47  1473.97              3805.39  \n",
            "671   6968.51  119.65  2774.02  2148.35              4148.57  \n",
            "672  10027.17   91.87  3923.03  3138.57              5915.66  \n",
            "673   8232.63  169.18  4218.18  2956.71              7570.17  \n"
          ],
          "name": "stdout"
        },
        {
          "output_type": "execute_result",
          "data": {
            "text/html": [
              "<div>\n",
              "<style scoped>\n",
              "    .dataframe tbody tr th:only-of-type {\n",
              "        vertical-align: middle;\n",
              "    }\n",
              "\n",
              "    .dataframe tbody tr th {\n",
              "        vertical-align: top;\n",
              "    }\n",
              "\n",
              "    .dataframe thead th {\n",
              "        text-align: right;\n",
              "    }\n",
              "</style>\n",
              "<table border=\"1\" class=\"dataframe\">\n",
              "  <thead>\n",
              "    <tr style=\"text-align: right;\">\n",
              "      <th></th>\n",
              "      <th>Store</th>\n",
              "      <th>Day</th>\n",
              "      <th>Month</th>\n",
              "      <th>Year</th>\n",
              "      <th>Dry_Grocery</th>\n",
              "      <th>Dairy</th>\n",
              "      <th>Frozen_Food</th>\n",
              "      <th>Meat</th>\n",
              "      <th>Produce</th>\n",
              "      <th>Floral</th>\n",
              "      <th>Deli</th>\n",
              "      <th>Bakery</th>\n",
              "      <th>General_Merchandise</th>\n",
              "    </tr>\n",
              "  </thead>\n",
              "  <tbody>\n",
              "    <tr>\n",
              "      <th>669</th>\n",
              "      <td>S0001</td>\n",
              "      <td>1</td>\n",
              "      <td>1</td>\n",
              "      <td>2015</td>\n",
              "      <td>15851.32</td>\n",
              "      <td>4343.52</td>\n",
              "      <td>2659.79</td>\n",
              "      <td>3273.70</td>\n",
              "      <td>2820.66</td>\n",
              "      <td>111.31</td>\n",
              "      <td>1778.42</td>\n",
              "      <td>1311.56</td>\n",
              "      <td>2870.88</td>\n",
              "    </tr>\n",
              "    <tr>\n",
              "      <th>670</th>\n",
              "      <td>S0001</td>\n",
              "      <td>2</td>\n",
              "      <td>1</td>\n",
              "      <td>2015</td>\n",
              "      <td>24726.90</td>\n",
              "      <td>5622.35</td>\n",
              "      <td>3618.33</td>\n",
              "      <td>4361.22</td>\n",
              "      <td>4050.15</td>\n",
              "      <td>52.44</td>\n",
              "      <td>1944.47</td>\n",
              "      <td>1473.97</td>\n",
              "      <td>3805.39</td>\n",
              "    </tr>\n",
              "    <tr>\n",
              "      <th>671</th>\n",
              "      <td>S0001</td>\n",
              "      <td>3</td>\n",
              "      <td>1</td>\n",
              "      <td>2015</td>\n",
              "      <td>32463.81</td>\n",
              "      <td>7407.34</td>\n",
              "      <td>6134.92</td>\n",
              "      <td>8888.22</td>\n",
              "      <td>6968.51</td>\n",
              "      <td>119.65</td>\n",
              "      <td>2774.02</td>\n",
              "      <td>2148.35</td>\n",
              "      <td>4148.57</td>\n",
              "    </tr>\n",
              "    <tr>\n",
              "      <th>672</th>\n",
              "      <td>S0001</td>\n",
              "      <td>4</td>\n",
              "      <td>1</td>\n",
              "      <td>2015</td>\n",
              "      <td>45526.66</td>\n",
              "      <td>10239.19</td>\n",
              "      <td>8592.09</td>\n",
              "      <td>13102.94</td>\n",
              "      <td>10027.17</td>\n",
              "      <td>91.87</td>\n",
              "      <td>3923.03</td>\n",
              "      <td>3138.57</td>\n",
              "      <td>5915.66</td>\n",
              "    </tr>\n",
              "    <tr>\n",
              "      <th>673</th>\n",
              "      <td>S0001</td>\n",
              "      <td>5</td>\n",
              "      <td>1</td>\n",
              "      <td>2015</td>\n",
              "      <td>44492.21</td>\n",
              "      <td>9997.15</td>\n",
              "      <td>7215.28</td>\n",
              "      <td>12757.61</td>\n",
              "      <td>8232.63</td>\n",
              "      <td>169.18</td>\n",
              "      <td>4218.18</td>\n",
              "      <td>2956.71</td>\n",
              "      <td>7570.17</td>\n",
              "    </tr>\n",
              "  </tbody>\n",
              "</table>\n",
              "</div>"
            ],
            "text/plain": [
              "     Store  Day  Month  Year  Dry_Grocery     Dairy  Frozen_Food      Meat  \\\n",
              "669  S0001    1      1  2015     15851.32   4343.52      2659.79   3273.70   \n",
              "670  S0001    2      1  2015     24726.90   5622.35      3618.33   4361.22   \n",
              "671  S0001    3      1  2015     32463.81   7407.34      6134.92   8888.22   \n",
              "672  S0001    4      1  2015     45526.66  10239.19      8592.09  13102.94   \n",
              "673  S0001    5      1  2015     44492.21   9997.15      7215.28  12757.61   \n",
              "\n",
              "      Produce  Floral     Deli   Bakery  General_Merchandise  \n",
              "669   2820.66  111.31  1778.42  1311.56              2870.88  \n",
              "670   4050.15   52.44  1944.47  1473.97              3805.39  \n",
              "671   6968.51  119.65  2774.02  2148.35              4148.57  \n",
              "672  10027.17   91.87  3923.03  3138.57              5915.66  \n",
              "673   8232.63  169.18  4218.18  2956.71              7570.17  "
            ]
          },
          "metadata": {
            "tags": []
          },
          "execution_count": 94
        }
      ]
    },
    {
      "metadata": {
        "id": "rbKC1KFb4iHa",
        "colab_type": "code",
        "colab": {},
        "outputId": "8b8cdc43-6d04-4436-a0e7-45c9fcf61d6a"
      },
      "cell_type": "code",
      "source": [
        "df = df.groupby(['Store']).sum()\n",
        "df.head()"
      ],
      "execution_count": 0,
      "outputs": [
        {
          "output_type": "execute_result",
          "data": {
            "text/html": [
              "<div>\n",
              "<style scoped>\n",
              "    .dataframe tbody tr th:only-of-type {\n",
              "        vertical-align: middle;\n",
              "    }\n",
              "\n",
              "    .dataframe tbody tr th {\n",
              "        vertical-align: top;\n",
              "    }\n",
              "\n",
              "    .dataframe thead th {\n",
              "        text-align: right;\n",
              "    }\n",
              "</style>\n",
              "<table border=\"1\" class=\"dataframe\">\n",
              "  <thead>\n",
              "    <tr style=\"text-align: right;\">\n",
              "      <th></th>\n",
              "      <th>Day</th>\n",
              "      <th>Month</th>\n",
              "      <th>Year</th>\n",
              "      <th>Dry_Grocery</th>\n",
              "      <th>Dairy</th>\n",
              "      <th>Frozen_Food</th>\n",
              "      <th>Meat</th>\n",
              "      <th>Produce</th>\n",
              "      <th>Floral</th>\n",
              "      <th>Deli</th>\n",
              "      <th>Bakery</th>\n",
              "      <th>General_Merchandise</th>\n",
              "    </tr>\n",
              "    <tr>\n",
              "      <th>Store</th>\n",
              "      <th></th>\n",
              "      <th></th>\n",
              "      <th></th>\n",
              "      <th></th>\n",
              "      <th></th>\n",
              "      <th></th>\n",
              "      <th></th>\n",
              "      <th></th>\n",
              "      <th></th>\n",
              "      <th></th>\n",
              "      <th></th>\n",
              "      <th></th>\n",
              "    </tr>\n",
              "  </thead>\n",
              "  <tbody>\n",
              "    <tr>\n",
              "      <th>S0001</th>\n",
              "      <td>5713</td>\n",
              "      <td>2370</td>\n",
              "      <td>733460</td>\n",
              "      <td>10845787.65</td>\n",
              "      <td>2423389.38</td>\n",
              "      <td>1814872.88</td>\n",
              "      <td>2531382.34</td>\n",
              "      <td>2284388.70</td>\n",
              "      <td>159142.23</td>\n",
              "      <td>1023812.90</td>\n",
              "      <td>835599.06</td>\n",
              "      <td>1590570.68</td>\n",
              "    </tr>\n",
              "    <tr>\n",
              "      <th>S0002</th>\n",
              "      <td>5713</td>\n",
              "      <td>2370</td>\n",
              "      <td>733460</td>\n",
              "      <td>7931072.94</td>\n",
              "      <td>1844188.83</td>\n",
              "      <td>1366677.52</td>\n",
              "      <td>1991807.66</td>\n",
              "      <td>1755293.15</td>\n",
              "      <td>128935.92</td>\n",
              "      <td>689786.42</td>\n",
              "      <td>514864.68</td>\n",
              "      <td>1111992.45</td>\n",
              "    </tr>\n",
              "    <tr>\n",
              "      <th>S0003</th>\n",
              "      <td>5713</td>\n",
              "      <td>2370</td>\n",
              "      <td>733460</td>\n",
              "      <td>12741875.44</td>\n",
              "      <td>3095321.58</td>\n",
              "      <td>2087437.15</td>\n",
              "      <td>3468989.12</td>\n",
              "      <td>3792143.03</td>\n",
              "      <td>291259.69</td>\n",
              "      <td>1262874.27</td>\n",
              "      <td>1091930.44</td>\n",
              "      <td>2408831.27</td>\n",
              "    </tr>\n",
              "    <tr>\n",
              "      <th>S0004</th>\n",
              "      <td>5713</td>\n",
              "      <td>2370</td>\n",
              "      <td>733460</td>\n",
              "      <td>12688533.89</td>\n",
              "      <td>2710746.38</td>\n",
              "      <td>2240847.44</td>\n",
              "      <td>3565375.84</td>\n",
              "      <td>2802811.88</td>\n",
              "      <td>170822.64</td>\n",
              "      <td>1166388.77</td>\n",
              "      <td>962155.82</td>\n",
              "      <td>1606208.31</td>\n",
              "    </tr>\n",
              "    <tr>\n",
              "      <th>S0005</th>\n",
              "      <td>5713</td>\n",
              "      <td>2370</td>\n",
              "      <td>733460</td>\n",
              "      <td>12248085.57</td>\n",
              "      <td>2957003.74</td>\n",
              "      <td>2402445.89</td>\n",
              "      <td>2834435.52</td>\n",
              "      <td>3648309.02</td>\n",
              "      <td>247017.36</td>\n",
              "      <td>984736.25</td>\n",
              "      <td>629055.94</td>\n",
              "      <td>1874796.88</td>\n",
              "    </tr>\n",
              "  </tbody>\n",
              "</table>\n",
              "</div>"
            ],
            "text/plain": [
              "        Day  Month    Year  Dry_Grocery       Dairy  Frozen_Food        Meat  \\\n",
              "Store                                                                          \n",
              "S0001  5713   2370  733460  10845787.65  2423389.38   1814872.88  2531382.34   \n",
              "S0002  5713   2370  733460   7931072.94  1844188.83   1366677.52  1991807.66   \n",
              "S0003  5713   2370  733460  12741875.44  3095321.58   2087437.15  3468989.12   \n",
              "S0004  5713   2370  733460  12688533.89  2710746.38   2240847.44  3565375.84   \n",
              "S0005  5713   2370  733460  12248085.57  2957003.74   2402445.89  2834435.52   \n",
              "\n",
              "          Produce     Floral        Deli      Bakery  General_Merchandise  \n",
              "Store                                                                      \n",
              "S0001  2284388.70  159142.23  1023812.90   835599.06           1590570.68  \n",
              "S0002  1755293.15  128935.92   689786.42   514864.68           1111992.45  \n",
              "S0003  3792143.03  291259.69  1262874.27  1091930.44           2408831.27  \n",
              "S0004  2802811.88  170822.64  1166388.77   962155.82           1606208.31  \n",
              "S0005  3648309.02  247017.36   984736.25   629055.94           1874796.88  "
            ]
          },
          "metadata": {
            "tags": []
          },
          "execution_count": 96
        }
      ]
    },
    {
      "metadata": {
        "id": "5d7X9I854iHj",
        "colab_type": "code",
        "colab": {}
      },
      "cell_type": "code",
      "source": [
        "\n"
      ],
      "execution_count": 0,
      "outputs": []
    },
    {
      "metadata": {
        "id": "MchlDmAP4iHm",
        "colab_type": "code",
        "colab": {},
        "outputId": "a17ca364-e1ae-4259-d2c1-4a964575bd1b"
      },
      "cell_type": "code",
      "source": [
        "df = df.drop('Day', axis = 1)\n",
        "df = df.drop('Year', axis = 1)\n",
        "df.head()\n"
      ],
      "execution_count": 0,
      "outputs": [
        {
          "output_type": "execute_result",
          "data": {
            "text/html": [
              "<div>\n",
              "<style scoped>\n",
              "    .dataframe tbody tr th:only-of-type {\n",
              "        vertical-align: middle;\n",
              "    }\n",
              "\n",
              "    .dataframe tbody tr th {\n",
              "        vertical-align: top;\n",
              "    }\n",
              "\n",
              "    .dataframe thead th {\n",
              "        text-align: right;\n",
              "    }\n",
              "</style>\n",
              "<table border=\"1\" class=\"dataframe\">\n",
              "  <thead>\n",
              "    <tr style=\"text-align: right;\">\n",
              "      <th></th>\n",
              "      <th>Dry_Grocery</th>\n",
              "      <th>Dairy</th>\n",
              "      <th>Frozen_Food</th>\n",
              "      <th>Meat</th>\n",
              "      <th>Produce</th>\n",
              "      <th>Floral</th>\n",
              "      <th>Deli</th>\n",
              "      <th>Bakery</th>\n",
              "      <th>General_Merchandise</th>\n",
              "    </tr>\n",
              "    <tr>\n",
              "      <th>Store</th>\n",
              "      <th></th>\n",
              "      <th></th>\n",
              "      <th></th>\n",
              "      <th></th>\n",
              "      <th></th>\n",
              "      <th></th>\n",
              "      <th></th>\n",
              "      <th></th>\n",
              "      <th></th>\n",
              "    </tr>\n",
              "  </thead>\n",
              "  <tbody>\n",
              "    <tr>\n",
              "      <th>S0001</th>\n",
              "      <td>10845787.65</td>\n",
              "      <td>2423389.38</td>\n",
              "      <td>1814872.88</td>\n",
              "      <td>2531382.34</td>\n",
              "      <td>2284388.70</td>\n",
              "      <td>159142.23</td>\n",
              "      <td>1023812.90</td>\n",
              "      <td>835599.06</td>\n",
              "      <td>1590570.68</td>\n",
              "    </tr>\n",
              "    <tr>\n",
              "      <th>S0002</th>\n",
              "      <td>7931072.94</td>\n",
              "      <td>1844188.83</td>\n",
              "      <td>1366677.52</td>\n",
              "      <td>1991807.66</td>\n",
              "      <td>1755293.15</td>\n",
              "      <td>128935.92</td>\n",
              "      <td>689786.42</td>\n",
              "      <td>514864.68</td>\n",
              "      <td>1111992.45</td>\n",
              "    </tr>\n",
              "    <tr>\n",
              "      <th>S0003</th>\n",
              "      <td>12741875.44</td>\n",
              "      <td>3095321.58</td>\n",
              "      <td>2087437.15</td>\n",
              "      <td>3468989.12</td>\n",
              "      <td>3792143.03</td>\n",
              "      <td>291259.69</td>\n",
              "      <td>1262874.27</td>\n",
              "      <td>1091930.44</td>\n",
              "      <td>2408831.27</td>\n",
              "    </tr>\n",
              "    <tr>\n",
              "      <th>S0004</th>\n",
              "      <td>12688533.89</td>\n",
              "      <td>2710746.38</td>\n",
              "      <td>2240847.44</td>\n",
              "      <td>3565375.84</td>\n",
              "      <td>2802811.88</td>\n",
              "      <td>170822.64</td>\n",
              "      <td>1166388.77</td>\n",
              "      <td>962155.82</td>\n",
              "      <td>1606208.31</td>\n",
              "    </tr>\n",
              "    <tr>\n",
              "      <th>S0005</th>\n",
              "      <td>12248085.57</td>\n",
              "      <td>2957003.74</td>\n",
              "      <td>2402445.89</td>\n",
              "      <td>2834435.52</td>\n",
              "      <td>3648309.02</td>\n",
              "      <td>247017.36</td>\n",
              "      <td>984736.25</td>\n",
              "      <td>629055.94</td>\n",
              "      <td>1874796.88</td>\n",
              "    </tr>\n",
              "  </tbody>\n",
              "</table>\n",
              "</div>"
            ],
            "text/plain": [
              "       Dry_Grocery       Dairy  Frozen_Food        Meat     Produce  \\\n",
              "Store                                                                 \n",
              "S0001  10845787.65  2423389.38   1814872.88  2531382.34  2284388.70   \n",
              "S0002   7931072.94  1844188.83   1366677.52  1991807.66  1755293.15   \n",
              "S0003  12741875.44  3095321.58   2087437.15  3468989.12  3792143.03   \n",
              "S0004  12688533.89  2710746.38   2240847.44  3565375.84  2802811.88   \n",
              "S0005  12248085.57  2957003.74   2402445.89  2834435.52  3648309.02   \n",
              "\n",
              "          Floral        Deli      Bakery  General_Merchandise  \n",
              "Store                                                          \n",
              "S0001  159142.23  1023812.90   835599.06           1590570.68  \n",
              "S0002  128935.92   689786.42   514864.68           1111992.45  \n",
              "S0003  291259.69  1262874.27  1091930.44           2408831.27  \n",
              "S0004  170822.64  1166388.77   962155.82           1606208.31  \n",
              "S0005  247017.36   984736.25   629055.94           1874796.88  "
            ]
          },
          "metadata": {
            "tags": []
          },
          "execution_count": 102
        }
      ]
    },
    {
      "metadata": {
        "id": "V93pv-jz4iHt",
        "colab_type": "code",
        "colab": {}
      },
      "cell_type": "code",
      "source": [
        "table_2 = df[['Dry_Grocery', 'Dairy', 'Frozen_Food', 'Meat', 'Produce', 'Floral', 'Deli', 'Bakery', 'General_Merchandise']].apply(lambda x: x/x.sum(), axis=1)"
      ],
      "execution_count": 0,
      "outputs": []
    },
    {
      "metadata": {
        "id": "JH64Jn0V4iHx",
        "colab_type": "code",
        "colab": {},
        "outputId": "09ad7ebc-2330-40b3-ce04-15f766bef89b"
      },
      "cell_type": "code",
      "source": [
        "print(table_2)"
      ],
      "execution_count": 0,
      "outputs": [
        {
          "output_type": "stream",
          "text": [
            "       Dry_Grocery     Dairy  Frozen_Food      Meat   Produce    Floral  \\\n",
            "Store                                                                     \n",
            "S0001     0.461347  0.103084     0.077199  0.107677  0.097171  0.006769   \n",
            "S0002     0.457528  0.106388     0.078841  0.114903  0.101259  0.007438   \n",
            "S0003     0.421349  0.102356     0.069027  0.114713  0.125399  0.009631   \n",
            "S0004     0.454560  0.097111     0.080277  0.127728  0.100409  0.006120   \n",
            "S0005     0.440169  0.106268     0.086339  0.101863  0.131112  0.008877   \n",
            "S0006     0.459835  0.098609     0.074443  0.106916  0.101782  0.008265   \n",
            "S0007     0.442087  0.102135     0.089170  0.115135  0.103447  0.007838   \n",
            "S0008     0.428457  0.108732     0.080321  0.106878  0.123696  0.007859   \n",
            "S0009     0.442252  0.100376     0.077051  0.118908  0.103507  0.007288   \n",
            "S0010     0.431445  0.114962     0.080342  0.107148  0.121629  0.010383   \n",
            "S0011     0.453793  0.093984     0.071882  0.121443  0.098467  0.007896   \n",
            "S0012     0.465999  0.097265     0.074357  0.114391  0.094315  0.006825   \n",
            "S0013     0.445549  0.090722     0.075352  0.114048  0.092661  0.007912   \n",
            "S0014     0.444373  0.097768     0.077185  0.098697  0.106849  0.010660   \n",
            "S0015     0.447968  0.098766     0.077869  0.099990  0.104975  0.007685   \n",
            "S0016     0.477240  0.091435     0.078064  0.110087  0.088469  0.006252   \n",
            "S0017     0.438117  0.100133     0.078777  0.097699  0.133663  0.013390   \n",
            "S0018     0.452848  0.098827     0.079017  0.106062  0.109022  0.009318   \n",
            "S0019     0.482713  0.097466     0.077881  0.111624  0.094800  0.005755   \n",
            "S0020     0.458778  0.107142     0.077872  0.108469  0.109104  0.008395   \n",
            "S0021     0.432833  0.122190     0.086453  0.086198  0.148003  0.008951   \n",
            "S0022     0.470503  0.096628     0.075948  0.106099  0.092153  0.008661   \n",
            "S0023     0.436647  0.108652     0.084322  0.109598  0.107051  0.009484   \n",
            "S0024     0.455110  0.104005     0.082141  0.104836  0.110498  0.005392   \n",
            "S0025     0.462042  0.104673     0.079629  0.104944  0.111706  0.005304   \n",
            "S0026     0.457669  0.105388     0.078424  0.099883  0.113665  0.008334   \n",
            "S0027     0.446685  0.104030     0.077643  0.099390  0.132245  0.016254   \n",
            "S0028     0.452981  0.103237     0.078961  0.119144  0.116529  0.003532   \n",
            "S0029     0.441264  0.099425     0.072961  0.131545  0.099193  0.006220   \n",
            "S0030     0.440521  0.109386     0.070796  0.111384  0.116304  0.008305   \n",
            "...            ...       ...          ...       ...       ...       ...   \n",
            "S0056     0.476390  0.116872     0.086399  0.087432  0.117922  0.008107   \n",
            "S0057     0.438124  0.097218     0.075329  0.147446  0.107270  0.005867   \n",
            "S0058     0.464678  0.100375     0.079861  0.102636  0.100387  0.008323   \n",
            "S0059     0.429947  0.096841     0.072498  0.117434  0.120425  0.007386   \n",
            "S0060     0.449700  0.101905     0.082347  0.114625  0.100789  0.010507   \n",
            "S0061     0.460530  0.106176     0.073653  0.117167  0.103018  0.005827   \n",
            "S0062     0.469907  0.098878     0.079772  0.093725  0.110607  0.005800   \n",
            "S0063     0.418792  0.113887     0.084998  0.105673  0.135424  0.009299   \n",
            "S0064     0.436475  0.107325     0.071335  0.114659  0.122796  0.009574   \n",
            "S0065     0.419622  0.106998     0.073301  0.112589  0.122428  0.011574   \n",
            "S0066     0.451210  0.099513     0.082972  0.105708  0.085589  0.008631   \n",
            "S0067     0.460265  0.099318     0.080956  0.122564  0.101988  0.005989   \n",
            "S0068     0.440859  0.100076     0.075807  0.102962  0.122995  0.009386   \n",
            "S0069     0.413319  0.106080     0.077610  0.112314  0.133252  0.007913   \n",
            "S0070     0.439685  0.097528     0.076867  0.100742  0.113486  0.007825   \n",
            "S0071     0.444424  0.098192     0.068710  0.134439  0.101314  0.005953   \n",
            "S0072     0.439710  0.092788     0.063373  0.125564  0.108970  0.007559   \n",
            "S0073     0.436023  0.097776     0.077857  0.105423  0.124461  0.008669   \n",
            "S0074     0.456378  0.103004     0.078967  0.131933  0.093064  0.005086   \n",
            "S0075     0.431127  0.097762     0.075503  0.159218  0.114500  0.004559   \n",
            "S0076     0.438723  0.099093     0.081946  0.109776  0.115233  0.011701   \n",
            "S0077     0.438946  0.103040     0.081825  0.106184  0.117936  0.010850   \n",
            "S0078     0.431482  0.119661     0.088052  0.111857  0.127329  0.007193   \n",
            "S0079     0.464064  0.096002     0.076860  0.120889  0.098970  0.007748   \n",
            "S0080     0.476708  0.106208     0.082215  0.101295  0.082616  0.007712   \n",
            "S0081     0.423280  0.102089     0.086592  0.123493  0.116666  0.008475   \n",
            "S0082     0.460995  0.100760     0.075290  0.113610  0.101490  0.005269   \n",
            "S0083     0.447873  0.108865     0.083793  0.109469  0.117443  0.007097   \n",
            "S0084     0.460306  0.106343     0.094408  0.105936  0.100824  0.006377   \n",
            "S0085     0.424240  0.112563     0.075257  0.115232  0.125251  0.010635   \n",
            "\n",
            "           Deli    Bakery  General_Merchandise  \n",
            "Store                                           \n",
            "S0001  0.043550  0.035544             0.067658  \n",
            "S0002  0.039792  0.029702             0.064149  \n",
            "S0003  0.041761  0.036108             0.079655  \n",
            "S0004  0.041785  0.034469             0.057542  \n",
            "S0005  0.035389  0.022607             0.067376  \n",
            "S0006  0.046309  0.035417             0.068424  \n",
            "S0007  0.046298  0.030176             0.063715  \n",
            "S0008  0.032623  0.022398             0.089036  \n",
            "S0009  0.044204  0.025756             0.080656  \n",
            "S0010  0.037099  0.038051             0.058941  \n",
            "S0011  0.048717  0.032441             0.071378  \n",
            "S0012  0.045066  0.018592             0.083191  \n",
            "S0013  0.046277  0.034281             0.093198  \n",
            "S0014  0.034927  0.020549             0.108992  \n",
            "S0015  0.034977  0.025106             0.102665  \n",
            "S0016  0.046052  0.028720             0.073681  \n",
            "S0017  0.040857  0.028239             0.069125  \n",
            "S0018  0.043024  0.034966             0.066918  \n",
            "S0019  0.032458  0.019593             0.077710  \n",
            "S0020  0.038153  0.029436             0.062651  \n",
            "S0021  0.036579  0.028166             0.050628  \n",
            "S0022  0.043142  0.034053             0.072812  \n",
            "S0023  0.038336  0.036189             0.069722  \n",
            "S0024  0.041131  0.022955             0.073932  \n",
            "S0025  0.042283  0.030706             0.058714  \n",
            "S0026  0.037658  0.030564             0.068415  \n",
            "S0027  0.029723  0.023370             0.070660  \n",
            "S0028  0.037298  0.030146             0.058172  \n",
            "S0029  0.042865  0.017822             0.088706  \n",
            "S0030  0.048072  0.030570             0.064662  \n",
            "...         ...       ...                  ...  \n",
            "S0056  0.027159  0.022477             0.057241  \n",
            "S0057  0.049536  0.017707             0.061503  \n",
            "S0058  0.047752  0.029823             0.066165  \n",
            "S0059  0.043467  0.028616             0.083387  \n",
            "S0060  0.041623  0.025869             0.072633  \n",
            "S0061  0.049362  0.029587             0.054679  \n",
            "S0062  0.040767  0.021481             0.079064  \n",
            "S0063  0.029934  0.029131             0.072861  \n",
            "S0064  0.039662  0.043817             0.054357  \n",
            "S0065  0.038639  0.030976             0.083873  \n",
            "S0066  0.039948  0.025230             0.101198  \n",
            "S0067  0.043480  0.024515             0.060924  \n",
            "S0068  0.045918  0.036083             0.065914  \n",
            "S0069  0.041581  0.037148             0.070784  \n",
            "S0070  0.037787  0.023328             0.102751  \n",
            "S0071  0.042982  0.021501             0.082485  \n",
            "S0072  0.044056  0.018201             0.099779  \n",
            "S0073  0.042505  0.036045             0.071240  \n",
            "S0074  0.037369  0.033158             0.061042  \n",
            "S0075  0.051568  0.016031             0.049732  \n",
            "S0076  0.041655  0.026107             0.075765  \n",
            "S0077  0.038089  0.039244             0.063885  \n",
            "S0078  0.036274  0.025209             0.052945  \n",
            "S0079  0.040397  0.022743             0.072327  \n",
            "S0080  0.036259  0.024245             0.082742  \n",
            "S0081  0.038956  0.042944             0.057506  \n",
            "S0082  0.048267  0.035212             0.059107  \n",
            "S0083  0.031885  0.025206             0.068370  \n",
            "S0084  0.040150  0.022119             0.063537  \n",
            "S0085  0.031300  0.036952             0.068570  \n",
            "\n",
            "[85 rows x 9 columns]\n"
          ],
          "name": "stdout"
        }
      ]
    },
    {
      "metadata": {
        "id": "MFUY0sC24iH3",
        "colab_type": "code",
        "colab": {},
        "outputId": "1bb5ed6f-5cf2-425d-803e-3e0e106f0508"
      },
      "cell_type": "code",
      "source": [
        "df = pd.DataFrame(table_2)\n",
        "df.head()"
      ],
      "execution_count": 0,
      "outputs": [
        {
          "output_type": "execute_result",
          "data": {
            "text/html": [
              "<div>\n",
              "<style scoped>\n",
              "    .dataframe tbody tr th:only-of-type {\n",
              "        vertical-align: middle;\n",
              "    }\n",
              "\n",
              "    .dataframe tbody tr th {\n",
              "        vertical-align: top;\n",
              "    }\n",
              "\n",
              "    .dataframe thead th {\n",
              "        text-align: right;\n",
              "    }\n",
              "</style>\n",
              "<table border=\"1\" class=\"dataframe\">\n",
              "  <thead>\n",
              "    <tr style=\"text-align: right;\">\n",
              "      <th></th>\n",
              "      <th>Dry_Grocery</th>\n",
              "      <th>Dairy</th>\n",
              "      <th>Frozen_Food</th>\n",
              "      <th>Meat</th>\n",
              "      <th>Produce</th>\n",
              "      <th>Floral</th>\n",
              "      <th>Deli</th>\n",
              "      <th>Bakery</th>\n",
              "      <th>General_Merchandise</th>\n",
              "    </tr>\n",
              "    <tr>\n",
              "      <th>Store</th>\n",
              "      <th></th>\n",
              "      <th></th>\n",
              "      <th></th>\n",
              "      <th></th>\n",
              "      <th></th>\n",
              "      <th></th>\n",
              "      <th></th>\n",
              "      <th></th>\n",
              "      <th></th>\n",
              "    </tr>\n",
              "  </thead>\n",
              "  <tbody>\n",
              "    <tr>\n",
              "      <th>S0001</th>\n",
              "      <td>0.461347</td>\n",
              "      <td>0.103084</td>\n",
              "      <td>0.077199</td>\n",
              "      <td>0.107677</td>\n",
              "      <td>0.097171</td>\n",
              "      <td>0.006769</td>\n",
              "      <td>0.043550</td>\n",
              "      <td>0.035544</td>\n",
              "      <td>0.067658</td>\n",
              "    </tr>\n",
              "    <tr>\n",
              "      <th>S0002</th>\n",
              "      <td>0.457528</td>\n",
              "      <td>0.106388</td>\n",
              "      <td>0.078841</td>\n",
              "      <td>0.114903</td>\n",
              "      <td>0.101259</td>\n",
              "      <td>0.007438</td>\n",
              "      <td>0.039792</td>\n",
              "      <td>0.029702</td>\n",
              "      <td>0.064149</td>\n",
              "    </tr>\n",
              "    <tr>\n",
              "      <th>S0003</th>\n",
              "      <td>0.421349</td>\n",
              "      <td>0.102356</td>\n",
              "      <td>0.069027</td>\n",
              "      <td>0.114713</td>\n",
              "      <td>0.125399</td>\n",
              "      <td>0.009631</td>\n",
              "      <td>0.041761</td>\n",
              "      <td>0.036108</td>\n",
              "      <td>0.079655</td>\n",
              "    </tr>\n",
              "    <tr>\n",
              "      <th>S0004</th>\n",
              "      <td>0.454560</td>\n",
              "      <td>0.097111</td>\n",
              "      <td>0.080277</td>\n",
              "      <td>0.127728</td>\n",
              "      <td>0.100409</td>\n",
              "      <td>0.006120</td>\n",
              "      <td>0.041785</td>\n",
              "      <td>0.034469</td>\n",
              "      <td>0.057542</td>\n",
              "    </tr>\n",
              "    <tr>\n",
              "      <th>S0005</th>\n",
              "      <td>0.440169</td>\n",
              "      <td>0.106268</td>\n",
              "      <td>0.086339</td>\n",
              "      <td>0.101863</td>\n",
              "      <td>0.131112</td>\n",
              "      <td>0.008877</td>\n",
              "      <td>0.035389</td>\n",
              "      <td>0.022607</td>\n",
              "      <td>0.067376</td>\n",
              "    </tr>\n",
              "  </tbody>\n",
              "</table>\n",
              "</div>"
            ],
            "text/plain": [
              "       Dry_Grocery     Dairy  Frozen_Food      Meat   Produce    Floral  \\\n",
              "Store                                                                     \n",
              "S0001     0.461347  0.103084     0.077199  0.107677  0.097171  0.006769   \n",
              "S0002     0.457528  0.106388     0.078841  0.114903  0.101259  0.007438   \n",
              "S0003     0.421349  0.102356     0.069027  0.114713  0.125399  0.009631   \n",
              "S0004     0.454560  0.097111     0.080277  0.127728  0.100409  0.006120   \n",
              "S0005     0.440169  0.106268     0.086339  0.101863  0.131112  0.008877   \n",
              "\n",
              "           Deli    Bakery  General_Merchandise  \n",
              "Store                                           \n",
              "S0001  0.043550  0.035544             0.067658  \n",
              "S0002  0.039792  0.029702             0.064149  \n",
              "S0003  0.041761  0.036108             0.079655  \n",
              "S0004  0.041785  0.034469             0.057542  \n",
              "S0005  0.035389  0.022607             0.067376  "
            ]
          },
          "metadata": {
            "tags": []
          },
          "execution_count": 105
        }
      ]
    },
    {
      "metadata": {
        "id": "a4jzAIej4iH9",
        "colab_type": "code",
        "colab": {}
      },
      "cell_type": "code",
      "source": [
        "from sklearn.cluster import KMeans\n",
        "model = KMeans (n_clusters=3)"
      ],
      "execution_count": 0,
      "outputs": []
    },
    {
      "metadata": {
        "id": "NbBTVtas4iIE",
        "colab_type": "code",
        "colab": {},
        "outputId": "d3544d88-9b1d-4ed7-fc8c-325572c2eacb"
      },
      "cell_type": "code",
      "source": [
        "model.fit(df)\n"
      ],
      "execution_count": 0,
      "outputs": [
        {
          "output_type": "execute_result",
          "data": {
            "text/plain": [
              "KMeans(algorithm='auto', copy_x=True, init='k-means++', max_iter=300,\n",
              "    n_clusters=3, n_init=10, n_jobs=None, precompute_distances='auto',\n",
              "    random_state=None, tol=0.0001, verbose=0)"
            ]
          },
          "metadata": {
            "tags": []
          },
          "execution_count": 108
        }
      ]
    },
    {
      "metadata": {
        "id": "WR__GufE4iIH",
        "colab_type": "code",
        "colab": {}
      },
      "cell_type": "code",
      "source": [
        "labels = model.predict(df)"
      ],
      "execution_count": 0,
      "outputs": []
    },
    {
      "metadata": {
        "id": "5BnY1Pmh4iIJ",
        "colab_type": "code",
        "colab": {},
        "outputId": "b348793e-aec1-4949-df23-d6ca04630f73"
      },
      "cell_type": "code",
      "source": [
        "print(labels)"
      ],
      "execution_count": 0,
      "outputs": [
        {
          "output_type": "stream",
          "text": [
            "[0 0 1 0 1 0 1 1 2 1 0 0 2 2 2 0 1 0 0 0 1 0 1 0 0 0 1 1 2 1 2 2 1 1 0 0 2\n",
            " 1 0 1 0 0 1 1 2 2 2 2 1 1 0 1 0 1 0 0 1 0 1 0 0 0 1 1 1 2 0 1 1 2 2 2 1 0\n",
            " 1 1 1 1 0 0 1 0 1 0 1]\n"
          ],
          "name": "stdout"
        }
      ]
    },
    {
      "metadata": {
        "id": "E9ebeCYx4iIN",
        "colab_type": "code",
        "colab": {}
      },
      "cell_type": "code",
      "source": [
        "import matplotlib.pyplot as plt"
      ],
      "execution_count": 0,
      "outputs": []
    },
    {
      "metadata": {
        "id": "XXdVfjvr4iIQ",
        "colab_type": "code",
        "colab": {}
      },
      "cell_type": "code",
      "source": [
        "xs = df.iloc[:, 0]"
      ],
      "execution_count": 0,
      "outputs": []
    },
    {
      "metadata": {
        "id": "lHWAgLj04iIT",
        "colab_type": "code",
        "colab": {}
      },
      "cell_type": "code",
      "source": [
        "ys = df.iloc[:, 1]"
      ],
      "execution_count": 0,
      "outputs": []
    },
    {
      "metadata": {
        "id": "YUUW76Zp4iIV",
        "colab_type": "code",
        "colab": {},
        "outputId": "c46ab019-3c8d-4cc7-df4a-e986318134a9"
      },
      "cell_type": "code",
      "source": [
        "plt.scatter(xs, ys, c=labels)"
      ],
      "execution_count": 0,
      "outputs": [
        {
          "output_type": "execute_result",
          "data": {
            "text/plain": [
              "<matplotlib.collections.PathCollection at 0x1a21f0d550>"
            ]
          },
          "metadata": {
            "tags": []
          },
          "execution_count": 119
        },
        {
          "output_type": "display_data",
          "data": {
            "image/png": "[encoded data removed]",
            "text/plain": [
              "<Figure size 432x288 with 1 Axes>"
            ]
          },
          "metadata": {
            "tags": [],
            "needs_background": "light"
          }
        }
      ]
    },
    {
      "metadata": {
        "id": "BENj07iX4iIZ",
        "colab_type": "code",
        "colab": {}
      },
      "cell_type": "code",
      "source": [
        "df_cluster = pd.DataFrame(labels)"
      ],
      "execution_count": 0,
      "outputs": []
    },
    {
      "metadata": {
        "id": "ifj_BwKV4iIb",
        "colab_type": "code",
        "colab": {},
        "outputId": "0457eddb-3401-4b9b-f342-4f7d83de6415"
      },
      "cell_type": "code",
      "source": [
        "df_cluster"
      ],
      "execution_count": 0,
      "outputs": [
        {
          "output_type": "execute_result",
          "data": {
            "text/html": [
              "<div>\n",
              "<style scoped>\n",
              "    .dataframe tbody tr th:only-of-type {\n",
              "        vertical-align: middle;\n",
              "    }\n",
              "\n",
              "    .dataframe tbody tr th {\n",
              "        vertical-align: top;\n",
              "    }\n",
              "\n",
              "    .dataframe thead th {\n",
              "        text-align: right;\n",
              "    }\n",
              "</style>\n",
              "<table border=\"1\" class=\"dataframe\">\n",
              "  <thead>\n",
              "    <tr style=\"text-align: right;\">\n",
              "      <th></th>\n",
              "      <th>0</th>\n",
              "    </tr>\n",
              "  </thead>\n",
              "  <tbody>\n",
              "    <tr>\n",
              "      <th>0</th>\n",
              "      <td>0</td>\n",
              "    </tr>\n",
              "    <tr>\n",
              "      <th>1</th>\n",
              "      <td>0</td>\n",
              "    </tr>\n",
              "    <tr>\n",
              "      <th>2</th>\n",
              "      <td>1</td>\n",
              "    </tr>\n",
              "    <tr>\n",
              "      <th>3</th>\n",
              "      <td>0</td>\n",
              "    </tr>\n",
              "    <tr>\n",
              "      <th>4</th>\n",
              "      <td>1</td>\n",
              "    </tr>\n",
              "    <tr>\n",
              "      <th>5</th>\n",
              "      <td>0</td>\n",
              "    </tr>\n",
              "    <tr>\n",
              "      <th>6</th>\n",
              "      <td>1</td>\n",
              "    </tr>\n",
              "    <tr>\n",
              "      <th>7</th>\n",
              "      <td>1</td>\n",
              "    </tr>\n",
              "    <tr>\n",
              "      <th>8</th>\n",
              "      <td>2</td>\n",
              "    </tr>\n",
              "    <tr>\n",
              "      <th>9</th>\n",
              "      <td>1</td>\n",
              "    </tr>\n",
              "    <tr>\n",
              "      <th>10</th>\n",
              "      <td>0</td>\n",
              "    </tr>\n",
              "    <tr>\n",
              "      <th>11</th>\n",
              "      <td>0</td>\n",
              "    </tr>\n",
              "    <tr>\n",
              "      <th>12</th>\n",
              "      <td>2</td>\n",
              "    </tr>\n",
              "    <tr>\n",
              "      <th>13</th>\n",
              "      <td>2</td>\n",
              "    </tr>\n",
              "    <tr>\n",
              "      <th>14</th>\n",
              "      <td>2</td>\n",
              "    </tr>\n",
              "    <tr>\n",
              "      <th>15</th>\n",
              "      <td>0</td>\n",
              "    </tr>\n",
              "    <tr>\n",
              "      <th>16</th>\n",
              "      <td>1</td>\n",
              "    </tr>\n",
              "    <tr>\n",
              "      <th>17</th>\n",
              "      <td>0</td>\n",
              "    </tr>\n",
              "    <tr>\n",
              "      <th>18</th>\n",
              "      <td>0</td>\n",
              "    </tr>\n",
              "    <tr>\n",
              "      <th>19</th>\n",
              "      <td>0</td>\n",
              "    </tr>\n",
              "    <tr>\n",
              "      <th>20</th>\n",
              "      <td>1</td>\n",
              "    </tr>\n",
              "    <tr>\n",
              "      <th>21</th>\n",
              "      <td>0</td>\n",
              "    </tr>\n",
              "    <tr>\n",
              "      <th>22</th>\n",
              "      <td>1</td>\n",
              "    </tr>\n",
              "    <tr>\n",
              "      <th>23</th>\n",
              "      <td>0</td>\n",
              "    </tr>\n",
              "    <tr>\n",
              "      <th>24</th>\n",
              "      <td>0</td>\n",
              "    </tr>\n",
              "    <tr>\n",
              "      <th>25</th>\n",
              "      <td>0</td>\n",
              "    </tr>\n",
              "    <tr>\n",
              "      <th>26</th>\n",
              "      <td>1</td>\n",
              "    </tr>\n",
              "    <tr>\n",
              "      <th>27</th>\n",
              "      <td>1</td>\n",
              "    </tr>\n",
              "    <tr>\n",
              "      <th>28</th>\n",
              "      <td>2</td>\n",
              "    </tr>\n",
              "    <tr>\n",
              "      <th>29</th>\n",
              "      <td>1</td>\n",
              "    </tr>\n",
              "    <tr>\n",
              "      <th>...</th>\n",
              "      <td>...</td>\n",
              "    </tr>\n",
              "    <tr>\n",
              "      <th>55</th>\n",
              "      <td>0</td>\n",
              "    </tr>\n",
              "    <tr>\n",
              "      <th>56</th>\n",
              "      <td>1</td>\n",
              "    </tr>\n",
              "    <tr>\n",
              "      <th>57</th>\n",
              "      <td>0</td>\n",
              "    </tr>\n",
              "    <tr>\n",
              "      <th>58</th>\n",
              "      <td>1</td>\n",
              "    </tr>\n",
              "    <tr>\n",
              "      <th>59</th>\n",
              "      <td>0</td>\n",
              "    </tr>\n",
              "    <tr>\n",
              "      <th>60</th>\n",
              "      <td>0</td>\n",
              "    </tr>\n",
              "    <tr>\n",
              "      <th>61</th>\n",
              "      <td>0</td>\n",
              "    </tr>\n",
              "    <tr>\n",
              "      <th>62</th>\n",
              "      <td>1</td>\n",
              "    </tr>\n",
              "    <tr>\n",
              "      <th>63</th>\n",
              "      <td>1</td>\n",
              "    </tr>\n",
              "    <tr>\n",
              "      <th>64</th>\n",
              "      <td>1</td>\n",
              "    </tr>\n",
              "    <tr>\n",
              "      <th>65</th>\n",
              "      <td>2</td>\n",
              "    </tr>\n",
              "    <tr>\n",
              "      <th>66</th>\n",
              "      <td>0</td>\n",
              "    </tr>\n",
              "    <tr>\n",
              "      <th>67</th>\n",
              "      <td>1</td>\n",
              "    </tr>\n",
              "    <tr>\n",
              "      <th>68</th>\n",
              "      <td>1</td>\n",
              "    </tr>\n",
              "    <tr>\n",
              "      <th>69</th>\n",
              "      <td>2</td>\n",
              "    </tr>\n",
              "    <tr>\n",
              "      <th>70</th>\n",
              "      <td>2</td>\n",
              "    </tr>\n",
              "    <tr>\n",
              "      <th>71</th>\n",
              "      <td>2</td>\n",
              "    </tr>\n",
              "    <tr>\n",
              "      <th>72</th>\n",
              "      <td>1</td>\n",
              "    </tr>\n",
              "    <tr>\n",
              "      <th>73</th>\n",
              "      <td>0</td>\n",
              "    </tr>\n",
              "    <tr>\n",
              "      <th>74</th>\n",
              "      <td>1</td>\n",
              "    </tr>\n",
              "    <tr>\n",
              "      <th>75</th>\n",
              "      <td>1</td>\n",
              "    </tr>\n",
              "    <tr>\n",
              "      <th>76</th>\n",
              "      <td>1</td>\n",
              "    </tr>\n",
              "    <tr>\n",
              "      <th>77</th>\n",
              "      <td>1</td>\n",
              "    </tr>\n",
              "    <tr>\n",
              "      <th>78</th>\n",
              "      <td>0</td>\n",
              "    </tr>\n",
              "    <tr>\n",
              "      <th>79</th>\n",
              "      <td>0</td>\n",
              "    </tr>\n",
              "    <tr>\n",
              "      <th>80</th>\n",
              "      <td>1</td>\n",
              "    </tr>\n",
              "    <tr>\n",
              "      <th>81</th>\n",
              "      <td>0</td>\n",
              "    </tr>\n",
              "    <tr>\n",
              "      <th>82</th>\n",
              "      <td>1</td>\n",
              "    </tr>\n",
              "    <tr>\n",
              "      <th>83</th>\n",
              "      <td>0</td>\n",
              "    </tr>\n",
              "    <tr>\n",
              "      <th>84</th>\n",
              "      <td>1</td>\n",
              "    </tr>\n",
              "  </tbody>\n",
              "</table>\n",
              "<p>85 rows × 1 columns</p>\n",
              "</div>"
            ],
            "text/plain": [
              "    0\n",
              "0   0\n",
              "1   0\n",
              "2   1\n",
              "3   0\n",
              "4   1\n",
              "5   0\n",
              "6   1\n",
              "7   1\n",
              "8   2\n",
              "9   1\n",
              "10  0\n",
              "11  0\n",
              "12  2\n",
              "13  2\n",
              "14  2\n",
              "15  0\n",
              "16  1\n",
              "17  0\n",
              "18  0\n",
              "19  0\n",
              "20  1\n",
              "21  0\n",
              "22  1\n",
              "23  0\n",
              "24  0\n",
              "25  0\n",
              "26  1\n",
              "27  1\n",
              "28  2\n",
              "29  1\n",
              ".. ..\n",
              "55  0\n",
              "56  1\n",
              "57  0\n",
              "58  1\n",
              "59  0\n",
              "60  0\n",
              "61  0\n",
              "62  1\n",
              "63  1\n",
              "64  1\n",
              "65  2\n",
              "66  0\n",
              "67  1\n",
              "68  1\n",
              "69  2\n",
              "70  2\n",
              "71  2\n",
              "72  1\n",
              "73  0\n",
              "74  1\n",
              "75  1\n",
              "76  1\n",
              "77  1\n",
              "78  0\n",
              "79  0\n",
              "80  1\n",
              "81  0\n",
              "82  1\n",
              "83  0\n",
              "84  1\n",
              "\n",
              "[85 rows x 1 columns]"
            ]
          },
          "metadata": {
            "tags": []
          },
          "execution_count": 122
        }
      ]
    },
    {
      "metadata": {
        "id": "vmP547fq4iIg",
        "colab_type": "code",
        "colab": {}
      },
      "cell_type": "code",
      "source": [
        ""
      ],
      "execution_count": 0,
      "outputs": []
    },
    {
      "metadata": {
        "id": "9lu8UNRP4iIi",
        "colab_type": "code",
        "colab": {}
      },
      "cell_type": "code",
      "source": [
        "\n"
      ],
      "execution_count": 0,
      "outputs": []
    },
    {
      "metadata": {
        "id": "HwsCcNd_4iIk",
        "colab_type": "code",
        "colab": {}
      },
      "cell_type": "code",
      "source": [
        ""
      ],
      "execution_count": 0,
      "outputs": []
    },
    {
      "metadata": {
        "id": "1wf4Li3Y4iIm",
        "colab_type": "code",
        "colab": {}
      },
      "cell_type": "code",
      "source": [
        ""
      ],
      "execution_count": 0,
      "outputs": []
    },
    {
      "metadata": {
        "id": "6F9MXZsH4iIo",
        "colab_type": "code",
        "colab": {}
      },
      "cell_type": "code",
      "source": [
        ""
      ],
      "execution_count": 0,
      "outputs": []
    },
    {
      "metadata": {
        "id": "xNYC85Sn4iIq",
        "colab_type": "code",
        "colab": {}
      },
      "cell_type": "code",
      "source": [
        ""
      ],
      "execution_count": 0,
      "outputs": []
    },
    {
      "metadata": {
        "id": "tqDRRMH-4iIr",
        "colab_type": "code",
        "colab": {}
      },
      "cell_type": "code",
      "source": [
        ""
      ],
      "execution_count": 0,
      "outputs": []
    },
    {
      "metadata": {
        "id": "lgujLCZG4iIs",
        "colab_type": "code",
        "colab": {}
      },
      "cell_type": "code",
      "source": [
        ""
      ],
      "execution_count": 0,
      "outputs": []
    },
    {
      "metadata": {
        "id": "zXDtxLev4iIt",
        "colab_type": "code",
        "colab": {}
      },
      "cell_type": "code",
      "source": [
        ""
      ],
      "execution_count": 0,
      "outputs": []
    },
    {
      "metadata": {
        "id": "B7eWh3iL4iIv",
        "colab_type": "code",
        "colab": {}
      },
      "cell_type": "code",
      "source": [
        ""
      ],
      "execution_count": 0,
      "outputs": []
    },
    {
      "metadata": {
        "id": "VsNs8oel4iIw",
        "colab_type": "code",
        "colab": {}
      },
      "cell_type": "code",
      "source": [
        ""
      ],
      "execution_count": 0,
      "outputs": []
    },
    {
      "metadata": {
        "id": "I_OJ4Rnr4iIx",
        "colab_type": "code",
        "colab": {}
      },
      "cell_type": "code",
      "source": [
        "\n"
      ],
      "execution_count": 0,
      "outputs": []
    },
    {
      "metadata": {
        "id": "yHSjBwBg4iIy",
        "colab_type": "code",
        "colab": {}
      },
      "cell_type": "code",
      "source": [
        ""
      ],
      "execution_count": 0,
      "outputs": []
    },
    {
      "metadata": {
        "id": "tI8LgyVK4iI0",
        "colab_type": "code",
        "colab": {}
      },
      "cell_type": "code",
      "source": [
        ""
      ],
      "execution_count": 0,
      "outputs": []
    }
  ]
}